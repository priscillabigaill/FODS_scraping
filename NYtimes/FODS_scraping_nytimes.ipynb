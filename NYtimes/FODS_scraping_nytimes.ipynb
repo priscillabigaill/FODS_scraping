{
  "nbformat": 4,
  "nbformat_minor": 0,
  "metadata": {
    "colab": {
      "provenance": []
    },
    "kernelspec": {
      "name": "python3",
      "display_name": "Python 3"
    },
    "language_info": {
      "name": "python"
    }
  },
  "cells": [
    {
      "cell_type": "code",
      "execution_count": null,
      "metadata": {
        "id": "9EeIMZz7hwOM",
        "colab": {
          "base_uri": "https://localhost:8080/"
        },
        "outputId": "842ab7d0-8477-4fae-ecd3-1e075d665009"
      },
      "outputs": [
        {
          "output_type": "stream",
          "name": "stdout",
          "text": [
            "Requirement already satisfied: bs4 in /usr/local/lib/python3.10/dist-packages (0.0.1)\n",
            "Requirement already satisfied: beautifulsoup4 in /usr/local/lib/python3.10/dist-packages (from bs4) (4.12.2)\n",
            "Requirement already satisfied: soupsieve>1.2 in /usr/local/lib/python3.10/dist-packages (from beautifulsoup4->bs4) (2.5)\n",
            "Requirement already satisfied: beautifulsoup4 in /usr/local/lib/python3.10/dist-packages (4.12.2)\n",
            "Requirement already satisfied: soupsieve>1.2 in /usr/local/lib/python3.10/dist-packages (from beautifulsoup4) (2.5)\n"
          ]
        }
      ],
      "source": [
        "!pip install bs4\n",
        "!pip install --upgrade beautifulsoup4\n",
        "\n",
        "from bs4 import BeautifulSoup\n",
        "import requests\n",
        "import re\n",
        "import pandas as pd"
      ]
    },
    {
      "cell_type": "code",
      "source": [
        "headers = {'Accept-Language': 'en-US,en;q=0.8'}\n",
        "url = 'https://www.nytimes.com/international/section/world'\n",
        "response = requests.get(url,headers=headers)\n",
        "soup = BeautifulSoup(response.text, \"html.parser\")"
      ],
      "metadata": {
        "id": "9mC7IzzQh11D"
      },
      "execution_count": null,
      "outputs": []
    },
    {
      "cell_type": "code",
      "source": [
        "articleTitle = soup.select('a.css-8hzhxf')\n",
        "print(\" \")\n",
        "print(articleTitle[0])\n",
        "print(\"how many titles are available?\",len(soup.select('a.css-8hzhxf')))\n",
        "\n",
        "snippet = soup.select('p.css-1pga48a.e15t083i1')\n",
        "print(\" \")\n",
        "print(snippet[0])\n",
        "print(\"how many titles are available?\",len(soup.select('p.css-1pga48a.e15t083i1')))\n",
        "\n",
        "author = soup.select('p.css-9suppj')\n",
        "print(\" \")\n",
        "print(author[0])\n",
        "print(\"how many titles are available?\",len(soup.select('p.css-9suppj')))\n",
        "\n",
        "imgLink = soup.select('img.css-rq4mmj')\n",
        "print(\" \")\n",
        "print(imgLink[0])\n",
        "print(\"how many titles are available?\",len(soup.select('img.css-rq4mmj')))"
      ],
      "metadata": {
        "colab": {
          "base_uri": "https://localhost:8080/"
        },
        "id": "u_ohO1JhiP3Q",
        "outputId": "470bb955-e2ef-4f66-92ba-1aaa04b3ea1c"
      },
      "execution_count": null,
      "outputs": [
        {
          "output_type": "stream",
          "name": "stdout",
          "text": [
            " \n",
            "<a class=\"css-8hzhxf\" href=\"/2023/09/19/world/europe/ukraine-grain-ship.html\"><h3 class=\"css-1kv6qi e15t083i0\">Ukraine Renews Push to Get Its Grain Out to the World</h3></a>\n",
            "how many titles are available? 10\n",
            " \n",
            "<p class=\"css-1pga48a e15t083i1\">After a journey of 12 hours across waters caught up in the war, a ship carrying tons of wheat made it safely to Romanian waters, as Kyiv worked to transport grain overland, as well.</p>\n",
            "how many titles are available? 10\n",
            " \n",
            "<p class=\"css-9suppj\">By <span class=\"css-1n7hynb\">Matthew Mpoke Bigg</span></p>\n",
            "how many titles are available? 10\n",
            " \n",
            "<img alt=\"\" class=\"css-rq4mmj\" decoding=\"async\" height=\"1\" sizes=\"(max-width: 600px) 120px, (max-width: 1024px) 165px, 205px\" src=\"https://static01.nyt.com/images/2023/09/19/multimedia/19ukraine-ledeall-01/19ukraine-briefing-grain-vmtq-thumbWide.jpg?quality=75&amp;auto=webp&amp;disable=upscale\" srcset=\"https://static01.nyt.com/images/2023/09/19/multimedia/19ukraine-ledeall-01/19ukraine-briefing-grain-vmtq-thumbWide.jpg?quality=100&amp;auto=webp 190w,https://static01.nyt.com/images/2023/09/19/multimedia/19ukraine-ledeall-01/19ukraine-briefing-grain-vmtq-videoThumb.jpg?quality=100&amp;auto=webp 75w,https://static01.nyt.com/images/2023/09/19/multimedia/19ukraine-ledeall-01/19ukraine-briefing-grain-vmtq-videoLarge.jpg?quality=100&amp;auto=webp 768w,https://static01.nyt.com/images/2023/09/19/multimedia/19ukraine-ledeall-01/19ukraine-briefing-grain-vmtq-mediumThreeByTwo210.jpg?quality=100&amp;auto=webp 210w,https://static01.nyt.com/images/2023/09/19/multimedia/19ukraine-ledeall-01/19ukraine-briefing-grain-vmtq-mediumThreeByTwo225.jpg?quality=100&amp;auto=webp 225w,https://static01.nyt.com/images/2023/09/19/multimedia/19ukraine-ledeall-01/19ukraine-briefing-grain-vmtq-mediumThreeByTwo440.jpg?quality=100&amp;auto=webp 440w,https://static01.nyt.com/images/2023/09/19/multimedia/19ukraine-ledeall-01/19ukraine-briefing-grain-vmtq-mediumThreeByTwo252.jpg?quality=100&amp;auto=webp 252w,https://static01.nyt.com/images/2023/09/19/multimedia/19ukraine-ledeall-01/19ukraine-briefing-grain-vmtq-mediumThreeByTwo378.jpg?quality=100&amp;auto=webp 378w,https://static01.nyt.com/images/2023/09/19/multimedia/19ukraine-ledeall-01/19ukraine-briefing-grain-vmtq-threeByTwoLargeAt2X.jpg?quality=100&amp;auto=webp 2879w,https://static01.nyt.com/images/2023/09/19/multimedia/19ukraine-ledeall-01/19ukraine-briefing-grain-vmtq-threeByTwoMediumAt2X.jpg?quality=100&amp;auto=webp 1500w,https://static01.nyt.com/images/2023/09/19/multimedia/19ukraine-ledeall-01/19ukraine-briefing-grain-vmtq-threeByTwoSmallAt2X.jpg?quality=100&amp;auto=webp 600w\" width=\"1\"/>\n",
            "how many titles are available? 10\n"
          ]
        }
      ]
    },
    {
      "cell_type": "code",
      "source": [
        "articleTitle = []\n",
        "snippet = []\n",
        "author = []\n",
        "imgLink = []\n",
        "articleLink =[]\n",
        "\n",
        "for t in soup.select('a.css-8hzhxf'):\n",
        "    articleTitle.append(t.get_text())\n",
        "\n",
        "for l in soup.select('p.css-1pga48a.e15t083i1'):\n",
        "    snippet.append(l.get_text())\n",
        "\n",
        "for a in soup.select('p.css-9suppj'):\n",
        "    author.append(a.get_text())\n",
        "\n",
        "for i in soup.select('img.css-rq4mmj'):\n",
        "    imgLink.append(i.attrs.get('src'))\n",
        "\n",
        "for p in soup.select('a.css-8hzhxf'):\n",
        "    articleLink.append(p.attrs.get('href'))\n",
        "\n",
        "print(articleTitle)\n",
        "print(snippet)\n",
        "print(author)\n",
        "print(imgLink)\n",
        "print(articleLink)"
      ],
      "metadata": {
        "colab": {
          "base_uri": "https://localhost:8080/"
        },
        "id": "pk6KYoMqtC0U",
        "outputId": "2e37e72c-d604-41e7-ad8a-2b4164d152b0"
      },
      "execution_count": null,
      "outputs": [
        {
          "output_type": "stream",
          "name": "stdout",
          "text": [
            "['Ukraine Renews Push to Get Its Grain Out to the World', 'Ukraine’s Fight Is the World’s, Zelensky Tells U.N. Assembly', 'Wednesday Briefing: Zelensky’s Warning at the U.N.', 'Russia’s Aggression Is a Threat to the World, Zelensky Says', 'Ukraine’s Counteroffensive Looms Large as Zelensky Addresses U.N.', 'Britain Passes Sweeping New Online Safety Law', '‘The Fossil Fuel Age Has Failed,’ Guterres Tells World Leaders', 'Ancient Earthworks Trodden by Golfers Become a World Heritage Site', 'Biden Aides and Saudis Explore Defense Treaty Modeled After Asian Pacts', 'Biden, in U.N. Speech, Calls for Action on Ukraine and Other Crises']\n",
            "['After a journey of 12 hours across waters caught up in the war, a ship carrying tons of wheat made it safely to Romanian waters, as Kyiv worked to transport grain overland, as well.', 'Painting Vladimir Putin’s Russia as a nation that seeks to dominate others, President Volodymyr Zelensky cast his appeal for broad support as a matter of global security.', 'Plus, new discoveries about a nomadic clan on the island of Borneo.', 'In a speech at the U.N. General Assembly, President Volodymyr Zelensky of Ukraine painted Russia as a habitual aggressor that has weaponized nuclear energy and essentials like food and water.', 'The effort to drive Russian forces from Ukraine’s south and east has been slow and bloody. Here’s a look at what might come next in the campaign.', 'The far-reaching bill had set off debates about balancing free speech and privacy rights against efforts to halt the spread of harmful content online.', 'António Guterres, the United Nations secretary general, called on nations to phase out the burning of coal, oil and gas.', 'The UNESCO World Heritage Committee has recognized the Octagon Earthworks in central Ohio as a cultural marvel.', 'Despite U.S. fatigue over Middle East wars, the White House sees a security agreement resembling those with Japan or South Korea as an incentive for Saudi Arabia to normalize relations with Israel.', 'As other major leaders skipped the annual opening session of the General Assembly, Mr. Biden used his address to try to counter war fatigue both at home and abroad.']\n",
            "['By Matthew Mpoke Bigg', 'By Richard Pérez-Peña,\\xa0Andrew E. Kramer and Farnaz Fassihi', 'By Justin Porter', 'By Reuters', 'By German Lopez', 'By Adam Satariano', 'By Reuters', 'By Sarah Bahr', 'By Edward Wong and Mark Mazzetti', 'By Michael D. Shear and Peter Baker']\n",
            "['https://static01.nyt.com/images/2023/09/19/multimedia/19ukraine-ledeall-01/19ukraine-briefing-grain-vmtq-thumbWide.jpg?quality=75&auto=webp&disable=upscale', 'https://static01.nyt.com/images/2023/09/19/multimedia/19nations-zelensky-01-kmqb/19nations-zelensky-01-kmqb-thumbWide.jpg?quality=75&auto=webp&disable=upscale', 'https://static01.nyt.com/images/2023/09/20/multimedia/092023ambriefing-asia-promo/092023ambriefing-asia-promo-thumbWide.jpg?quality=75&auto=webp&disable=upscale', 'https://static01.nyt.com/images/2023/09/19/multimedia/19UNGA-blog-header-230p-fwtq/19UNGA-blog-header-230p-fwtq-thumbWide.jpg?quality=75&auto=webp&disable=upscale', 'https://static01.nyt.com/images/2022/09/09/world/19ukraine-briefing-the-morning-version/19ukraine-briefing-the-morning-version-thumbWide-v2.jpg?quality=75&auto=webp&disable=upscale', 'https://static01.nyt.com/images/2023/09/19/multimedia/19britain-internet-gvlh/19britain-internet-gvlh-thumbWide.jpg?quality=75&auto=webp&disable=upscale', 'https://static01.nyt.com/images/2023/09/19/multimedia/19unga-blog-guterres-fossil-fuels-topart-qglc/19unga-blog-guterres-fossil-fuels-topart-qglc-thumbWide.jpg?quality=75&auto=webp&disable=upscale', 'https://static01.nyt.com/images/2023/09/20/multimedia/20ohio-earthworks-bphm/20ohio-earthworks-bphm-thumbWide.jpg?quality=75&auto=webp&disable=upscale', 'https://static01.nyt.com/images/2023/09/19/multimedia/19dc-saudi-israel-tlmb/19dc-saudi-israel-tlmb-thumbWide.jpg?quality=75&auto=webp&disable=upscale', 'https://static01.nyt.com/images/2023/09/19/multimedia/19unga-blog-biden-speech-topart-fzhk/19unga-blog-biden-speech-topart-fzhk-thumbWide.jpg?quality=75&auto=webp&disable=upscale']\n",
            "['/2023/09/19/world/europe/ukraine-grain-ship.html', '/2023/09/19/world/europe/zelensky-ukraine-united-nations.html', '/2023/09/19/briefing/un-zelensky-biden-trudeau-india-saudi-arabia.html', '/video/world/100000009094076/ukraine-zelensky-russia-speech.html', '/2023/09/19/world/europe/zelensky-ukraine-counteroffensive.html', '/2023/09/19/technology/britain-online-safety-law.html', '/video/world/100000009093398/guterres-fossil-fuels-united-nations.html', '/2023/09/19/arts/design/octagon-earthworks-ohio-world-heritage-site.html', '/2023/09/19/us/politics/biden-saudi-defense-treaty.html', '/2023/09/19/world/europe/biden-speech-un-general-assembly.html']\n"
          ]
        }
      ]
    },
    {
      "cell_type": "code",
      "source": [
        "df = pd.DataFrame(\n",
        "    {'Article Title': articleTitle,\n",
        "     'Article Snippet' : snippet,\n",
        "     'Author' : author,\n",
        "     'Image Link' : imgLink,\n",
        "     'Article Link' : articleLink}\n",
        "    )\n",
        "\n",
        "print (df.head())\n",
        "\n",
        "df.to_csv('nytimes.csv', index=False)"
      ],
      "metadata": {
        "colab": {
          "base_uri": "https://localhost:8080/"
        },
        "id": "HOxGarxlx1MW",
        "outputId": "c7a13779-da7a-4369-c3a2-99ed8b1cd209"
      },
      "execution_count": 12,
      "outputs": [
        {
          "output_type": "stream",
          "name": "stdout",
          "text": [
            "                                       Article Title  \\\n",
            "0  Ukraine Renews Push to Get Its Grain Out to th...   \n",
            "1  Ukraine’s Fight Is the World’s, Zelensky Tells...   \n",
            "2  Wednesday Briefing: Zelensky’s Warning at the ...   \n",
            "3  Russia’s Aggression Is a Threat to the World, ...   \n",
            "4  Ukraine’s Counteroffensive Looms Large as Zele...   \n",
            "\n",
            "                                     Article Snippet  \\\n",
            "0  After a journey of 12 hours across waters caug...   \n",
            "1  Painting Vladimir Putin’s Russia as a nation t...   \n",
            "2  Plus, new discoveries about a nomadic clan on ...   \n",
            "3  In a speech at the U.N. General Assembly, Pres...   \n",
            "4  The effort to drive Russian forces from Ukrain...   \n",
            "\n",
            "                                              Author  \\\n",
            "0                              By Matthew Mpoke Bigg   \n",
            "1  By Richard Pérez-Peña, Andrew E. Kramer and Fa...   \n",
            "2                                   By Justin Porter   \n",
            "3                                         By Reuters   \n",
            "4                                    By German Lopez   \n",
            "\n",
            "                                          Image Link  \\\n",
            "0  https://static01.nyt.com/images/2023/09/19/mul...   \n",
            "1  https://static01.nyt.com/images/2023/09/19/mul...   \n",
            "2  https://static01.nyt.com/images/2023/09/20/mul...   \n",
            "3  https://static01.nyt.com/images/2023/09/19/mul...   \n",
            "4  https://static01.nyt.com/images/2022/09/09/wor...   \n",
            "\n",
            "                                        Article Link  \n",
            "0   /2023/09/19/world/europe/ukraine-grain-ship.html  \n",
            "1  /2023/09/19/world/europe/zelensky-ukraine-unit...  \n",
            "2  /2023/09/19/briefing/un-zelensky-biden-trudeau...  \n",
            "3  /video/world/100000009094076/ukraine-zelensky-...  \n",
            "4  /2023/09/19/world/europe/zelensky-ukraine-coun...  \n"
          ]
        }
      ]
    }
  ]
}