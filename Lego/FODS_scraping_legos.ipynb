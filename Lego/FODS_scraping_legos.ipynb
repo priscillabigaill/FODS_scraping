{
  "nbformat": 4,
  "nbformat_minor": 0,
  "metadata": {
    "colab": {
      "provenance": []
    },
    "kernelspec": {
      "name": "python3",
      "display_name": "Python 3"
    },
    "language_info": {
      "name": "python"
    }
  },
  "cells": [
    {
      "cell_type": "code",
      "execution_count": null,
      "metadata": {
        "id": "LZhtzdBheHsb"
      },
      "outputs": [],
      "source": [
        "!pip install bs4\n",
        "!pip install --upgrade beautifulsoup4\n",
        "\n",
        "from bs4 import BeautifulSoup\n",
        "import requests\n",
        "import re\n",
        "import pandas as pd"
      ]
    },
    {
      "cell_type": "code",
      "source": [
        "headers = {'Accept-Language': 'en-US,en;q=0.8'}\n",
        "url = 'https://www.lego.com/en-id/themes/harry-potter'\n",
        "response = requests.get(url,headers=headers)\n",
        "soup = BeautifulSoup(response.text, \"html.parser\")"
      ],
      "metadata": {
        "id": "PvQlJtWYeVDl"
      },
      "execution_count": null,
      "outputs": []
    },
    {
      "cell_type": "code",
      "source": [
        "title = soup.select('h3.ProductLeaf_titleRow__KqWbB ')\n",
        "print(\" \")\n",
        "print(title[0])\n",
        "print(\"how many titles are available?\",len(soup.select('h3.ProductLeaf_titleRow__KqWbB ')))\n",
        "\n",
        "ageRec = soup.select('span[data-test=\"product-leaf-age-range-label\"]')\n",
        "print(\" \")\n",
        "print(ageRec[0])\n",
        "print(\"how many titles are available?\",len(soup.select('span[data-test=\"product-leaf-age-range-label\"]')))\n",
        "\n",
        "purcTime = soup.select('span[data-test=\"product-leaf-piece-count-label\"]')\n",
        "print(\" \")\n",
        "print(purcTime[0])\n",
        "print(\"how many titles are available?\",len(soup.select('span[data-test=\"product-leaf-piece-count-label\"]')))\n",
        "\n",
        "productLink = soup.select('div.ProductLeaf_actionRow__het7i a[data-test=\"product-leaf-cta-shop-now-read-only\"]')\n",
        "print(\" \")\n",
        "print(productLink[0]['href'])\n",
        "print(\"how many titles are available?\",len(soup.select('div.ProductLeaf_actionRow__het7i a[data-test=\"product-leaf-cta-shop-now-read-only\"]')))\n",
        "\n",
        "imgLink = soup.select('div.ProductImage_imageWrapper__vA6d2 source')\n",
        "print(\" \")\n",
        "print(imgLink[0])\n",
        "print(\"how many titles are available?\",len(soup.select('div.ProductImage_imageWrapper__vA6d2 source')))\n"
      ],
      "metadata": {
        "colab": {
          "base_uri": "https://localhost:8080/"
        },
        "id": "rms3svb8eZRB",
        "outputId": "b95ff61b-ec2d-4c0f-fecc-073a00880369"
      },
      "execution_count": null,
      "outputs": [
        {
          "output_type": "stream",
          "name": "stdout",
          "text": [
            " \n",
            "<h3 class=\"ProductLeaf_titleRow__KqWbB\" data-test=\"product-leaf-title-row\"><a class=\"body-md-medium ProductLeaf_title__1UhfJ\" data-test=\"product-leaf-title\" href=\"/en-id/product/gringotts-wizarding-bank-collectors-edition-76417\"><span class=\"markup\" data-test=\"markup\">Gringotts™ Wizarding Bank – Collectors' Edition</span></a></h3>\n",
            "how many titles are available? 18\n",
            " \n",
            "<span class=\"label-sm-medium ProductLeaf_attributeLabel__2VyjW\" data-test=\"product-leaf-age-range-label\"><div aria-hidden=\"false\" aria-label=\"Ages\" class=\"Icon_iconWrapper__7xJ3q Icon_size-medium__9sgAU\" data-skroll=\"Icon\" data-test=\"product-leaf-age-range-icon\" role=\"img\"></div>18+</span>\n",
            "how many titles are available? 18\n",
            " \n",
            "<span class=\"label-sm-medium ProductLeaf_attributeLabel__2VyjW\" data-test=\"product-leaf-piece-count-label\"><div aria-hidden=\"false\" aria-label=\"Pieces\" class=\"Icon_iconWrapper__7xJ3q Icon_size-medium__9sgAU\" data-skroll=\"Icon\" data-test=\"product-leaf-piece-count-icon\" role=\"img\"></div>4801</span>\n",
            "how many titles are available? 18\n",
            " \n",
            "/en-id/product/gringotts-wizarding-bank-collectors-edition-76417\n",
            "how many titles are available? 18\n",
            " \n",
            "<source media=\"(max-width: 600px)\" srcset=\"https://www.lego.com/cdn/cs/set/assets/bltfbd377eafb67041a/76417.png?format=webply&amp;fit=bounds&amp;quality=100&amp;width=320&amp;height=320&amp;dpr=1 1x, https://www.lego.com/cdn/cs/set/assets/bltfbd377eafb67041a/76417.png?format=webply&amp;fit=bounds&amp;quality=80&amp;width=320&amp;height=320&amp;dpr=2 2x, https://www.lego.com/cdn/cs/set/assets/bltfbd377eafb67041a/76417.png?format=webply&amp;fit=bounds&amp;quality=70&amp;width=320&amp;height=320&amp;dpr=3 3x, https://www.lego.com/cdn/cs/set/assets/bltfbd377eafb67041a/76417.png?format=webply&amp;fit=bounds&amp;quality=90&amp;width=320&amp;height=320&amp;dpr=1.5 1.5x\" type=\"image/webp\"/>\n",
            "how many titles are available? 108\n"
          ]
        }
      ]
    },
    {
      "cell_type": "code",
      "source": [
        "legos=[]\n",
        "for t in soup.select('h3.ProductLeaf_titleRow__KqWbB '):\n",
        "    legos.append(t.get_text())\n",
        "print(legos)\n",
        "\n",
        "ageRecs=[]\n",
        "for x in soup.select('span[data-test=\"product-leaf-age-range-label\"]'):\n",
        "    ageRecs.append(x.get_text())\n",
        "print(ageRecs)\n",
        "\n",
        "purcTimes=[]\n",
        "for t in soup.select('span[data-test=\"product-leaf-piece-count-label\"]'):\n",
        "    purcTimes.append(t.get_text())\n",
        "print(purcTimes)\n",
        "\n",
        "productLinks=[]\n",
        "for p in soup.select('div.ProductLeaf_actionRow__het7i a[data-test=\"product-leaf-cta-shop-now-read-only\"]'):\n",
        "    productLinks.append(p.attrs.get('href'))\n",
        "print(productLinks)\n",
        "\n",
        "imgLinkAll = []\n",
        "z_elements = soup.select('article.ProductLeaf_wrapper__H0TCb')\n",
        "l_elements = soup.select('div.ProductImage_imageWrapper__vA6d2 source')\n",
        "for z, l in zip(z_elements, l_elements):\n",
        "    srcset = l.attrs.get('srcset')\n",
        "    if srcset:\n",
        "        srcset_parts = srcset.split(',')\n",
        "        first_image_link = srcset_parts[0].strip()\n",
        "        imgLinkAll.append(first_image_link)\n",
        "print(imgLinkAll)"
      ],
      "metadata": {
        "colab": {
          "base_uri": "https://localhost:8080/"
        },
        "id": "9IjVwN6lfNa0",
        "outputId": "3f40a9cd-e0e7-4027-c57b-f6df4c468555"
      },
      "execution_count": 38,
      "outputs": [
        {
          "output_type": "stream",
          "name": "stdout",
          "text": [
            "[\"Gringotts™ Wizarding Bank – Collectors' Edition\", 'Harry, Hermione, Ron & Hagrid™', 'Hogwarts™ Castle and Grounds', 'LEGO® Harry Potter™ Advent Calendar 2023', 'Voldemort™, Nagini & Bellatrix', \"Hogwarts Express™ –\\xa0Collectors' Edition\", \"Hogwarts™ Icons - Collectors' Edition\", 'Harry Potter & Hermione Granger™', 'Harry Potter™ Hogwarts™ Crests', 'Hogwarts™: Polyjuice Potion Mistake', 'Hogwarts™\\xa0Hospital Wing', 'Dobby™ the House-Elf', 'Draco Malfoy™ & Cedric Diggory', 'Expecto Patronum', 'Fawkes, Dumbledore’s Phoenix', 'Harry Potter™ & Cho Chang', 'Hogsmeade™ Village Visit', 'Hogwarts Express ™ Train Set with Hogsmeade Station™']\n",
            "['18+', '10+', '18+', '7+', '10+', '18+', '18+', '10+', '18+', '7+', '8+', '8+', '10+', '14+', '10+', '10+', '8+', '8+']\n",
            "['4801', '466', '2660', '227', '344', '5129', '3010', '1673', '4249', '217', '510', '403', '262', '754', '597', '267', '851', '1074']\n",
            "['/en-id/product/gringotts-wizarding-bank-collectors-edition-76417', '/en-id/product/harry-hermione-ron-hagrid-40495', '/en-id/product/hogwarts-castle-and-grounds-76419', '/en-id/product/lego-harry-potter-advent-calendar-2023-76418', '/en-id/product/voldemort-nagini-bellatrix-40496', '/en-id/product/hogwarts-express-collectors-edition-76405', '/en-id/product/hogwarts-icons-collectors-edition-76391', '/en-id/product/harry-potter-hermione-granger-76393', '/en-id/product/harry-potter-hogwarts-crests-31201', '/en-id/product/hogwarts-polyjuice-potion-mistake-76386', '/en-id/product/hogwarts-hospital-wing-76398', '/en-id/product/dobby-the-house-elf-76421', '/en-id/product/draco-malfoy-cedric-diggory-40617', '/en-id/product/expecto-patronum-76414', '/en-id/product/fawkes-dumbledore-s-phoenix-76394', '/en-id/product/harry-potter-cho-chang-40616', '/en-id/product/hogsmeade-village-visit-76388', '/en-id/product/hogwarts-express-train-set-with-hogsmeade-station-76423']\n",
            "['https://www.lego.com/cdn/cs/set/assets/bltfbd377eafb67041a/76417.png?format=webply&fit=bounds&quality=100&width=320&height=320&dpr=1 1x', 'https://www.lego.com/cdn/cs/set/assets/bltfbd377eafb67041a/76417.png?format=webply&fit=bounds&quality=100&width=320&height=320&dpr=1 1x', 'https://www.lego.com/cdn/cs/set/assets/bltfbd377eafb67041a/76417.png?format=webply&fit=bounds&quality=100&width=320&height=320&dpr=1 1x', 'https://www.lego.com/cdn/cs/set/assets/blt3db77dbc731f5eeb/76417_alt1.png?format=webply&fit=bounds&quality=100&width=320&height=320&dpr=1 1x', 'https://www.lego.com/cdn/cs/set/assets/blt3db77dbc731f5eeb/76417_alt1.png?format=webply&fit=bounds&quality=100&width=320&height=320&dpr=1 1x', 'https://www.lego.com/cdn/cs/set/assets/blt3db77dbc731f5eeb/76417_alt1.png?format=webply&fit=bounds&quality=100&width=320&height=320&dpr=1 1x', 'https://www.lego.com/cdn/cs/set/assets/bltbc78df8e2ce91566/40495.jpg?format=webply&fit=bounds&quality=100&width=320&height=320&dpr=1 1x', 'https://www.lego.com/cdn/cs/set/assets/bltbc78df8e2ce91566/40495.jpg?format=webply&fit=bounds&quality=100&width=320&height=320&dpr=1 1x', 'https://www.lego.com/cdn/cs/set/assets/bltbc78df8e2ce91566/40495.jpg?format=webply&fit=bounds&quality=100&width=320&height=320&dpr=1 1x', 'https://www.lego.com/cdn/cs/set/assets/bltaeff6055d35f0959/40495_alt1.jpg?format=webply&fit=bounds&quality=100&width=320&height=320&dpr=1 1x', 'https://www.lego.com/cdn/cs/set/assets/bltaeff6055d35f0959/40495_alt1.jpg?format=webply&fit=bounds&quality=100&width=320&height=320&dpr=1 1x', 'https://www.lego.com/cdn/cs/set/assets/bltaeff6055d35f0959/40495_alt1.jpg?format=webply&fit=bounds&quality=100&width=320&height=320&dpr=1 1x', 'https://www.lego.com/cdn/cs/set/assets/blte09f96efc93d5c1d/76419.png?format=webply&fit=bounds&quality=100&width=320&height=320&dpr=1 1x', 'https://www.lego.com/cdn/cs/set/assets/blte09f96efc93d5c1d/76419.png?format=webply&fit=bounds&quality=100&width=320&height=320&dpr=1 1x', 'https://www.lego.com/cdn/cs/set/assets/blte09f96efc93d5c1d/76419.png?format=webply&fit=bounds&quality=100&width=320&height=320&dpr=1 1x', 'https://www.lego.com/cdn/cs/set/assets/blt5a988358a6267b58/76419_alt1.png?format=webply&fit=bounds&quality=100&width=320&height=320&dpr=1 1x', 'https://www.lego.com/cdn/cs/set/assets/blt5a988358a6267b58/76419_alt1.png?format=webply&fit=bounds&quality=100&width=320&height=320&dpr=1 1x', 'https://www.lego.com/cdn/cs/set/assets/blt5a988358a6267b58/76419_alt1.png?format=webply&fit=bounds&quality=100&width=320&height=320&dpr=1 1x']\n"
          ]
        }
      ]
    },
    {
      "cell_type": "code",
      "source": [
        "df = pd.DataFrame(\n",
        "    {'Product Name': legos,\n",
        "     'Age Recommendation' : ageRecs,\n",
        "     'Number of Purchases' : purcTimes,\n",
        "     'Product Link' : productLinks,\n",
        "     'Image Link' : imgLinkAll}\n",
        "    )\n",
        "\n",
        "print (df.head())\n",
        "\n",
        "df.to_csv('lego.csv', index=False)"
      ],
      "metadata": {
        "colab": {
          "base_uri": "https://localhost:8080/"
        },
        "id": "OSo1-RwCtiig",
        "outputId": "49d65b75-f158-4f76-fca8-18ebd521ce5b"
      },
      "execution_count": 39,
      "outputs": [
        {
          "output_type": "stream",
          "name": "stdout",
          "text": [
            "                                      Product Name Age Recommendation  \\\n",
            "0  Gringotts™ Wizarding Bank – Collectors' Edition                18+   \n",
            "1                   Harry, Hermione, Ron & Hagrid™                10+   \n",
            "2                     Hogwarts™ Castle and Grounds                18+   \n",
            "3         LEGO® Harry Potter™ Advent Calendar 2023                 7+   \n",
            "4                   Voldemort™, Nagini & Bellatrix                10+   \n",
            "\n",
            "  Number of Purchases                                       Product Link  \\\n",
            "0                4801  /en-id/product/gringotts-wizarding-bank-collec...   \n",
            "1                 466     /en-id/product/harry-hermione-ron-hagrid-40495   \n",
            "2                2660   /en-id/product/hogwarts-castle-and-grounds-76419   \n",
            "3                 227  /en-id/product/lego-harry-potter-advent-calend...   \n",
            "4                 344    /en-id/product/voldemort-nagini-bellatrix-40496   \n",
            "\n",
            "                                          Image Link  \n",
            "0  https://www.lego.com/cdn/cs/set/assets/bltfbd3...  \n",
            "1  https://www.lego.com/cdn/cs/set/assets/bltfbd3...  \n",
            "2  https://www.lego.com/cdn/cs/set/assets/bltfbd3...  \n",
            "3  https://www.lego.com/cdn/cs/set/assets/blt3db7...  \n",
            "4  https://www.lego.com/cdn/cs/set/assets/blt3db7...  \n"
          ]
        }
      ]
    }
  ]
}